{
 "cells": [
  {
   "cell_type": "code",
   "execution_count": 1,
   "metadata": {},
   "outputs": [],
   "source": [
    "import pandas as pds"
   ]
  },
  {
   "cell_type": "code",
   "execution_count": 2,
   "metadata": {},
   "outputs": [],
   "source": [
    "carbon = pds.read_csv(\"~/Devel/jiant/emissions.csv\")"
   ]
  },
  {
   "cell_type": "code",
   "execution_count": 6,
   "metadata": {},
   "outputs": [
    {
     "data": {
      "text/plain": [
       "0     0.005627\n",
       "1     0.010596\n",
       "2     0.010322\n",
       "3     0.031036\n",
       "4     0.003874\n",
       "        ...   \n",
       "58    0.006274\n",
       "59    0.002263\n",
       "60    0.006397\n",
       "61    0.001346\n",
       "62    0.007235\n",
       "Name: emissions, Length: 63, dtype: float64"
      ]
     },
     "execution_count": 6,
     "metadata": {},
     "output_type": "execute_result"
    }
   ],
   "source": [
    "carbon[\"emissions\"]"
   ]
  },
  {
   "cell_type": "code",
   "execution_count": null,
   "metadata": {},
   "outputs": [],
   "source": []
  }
 ],
 "metadata": {
  "kernelspec": {
   "display_name": "Python 3.8.13 ('jiant3.8')",
   "language": "python",
   "name": "python3"
  },
  "language_info": {
   "codemirror_mode": {
    "name": "ipython",
    "version": 3
   },
   "file_extension": ".py",
   "mimetype": "text/x-python",
   "name": "python",
   "nbconvert_exporter": "python",
   "pygments_lexer": "ipython3",
   "version": "3.8.13"
  },
  "orig_nbformat": 4,
  "vscode": {
   "interpreter": {
    "hash": "b9d4920f5e0b58c044ae2cf4a309a5ee822eb6fc643d369e181fccb1e5c167cb"
   }
  }
 },
 "nbformat": 4,
 "nbformat_minor": 2
}
